{
 "cells": [
  {
   "cell_type": "markdown",
   "metadata": {},
   "source": [
    "### TASK 1"
   ]
  },
  {
   "cell_type": "markdown",
   "metadata": {},
   "source": [
    "#### Part 1."
   ]
  },
  {
   "cell_type": "markdown",
   "metadata": {},
   "source": [
    "#### 1.1 my_Map()"
   ]
  },
  {
   "cell_type": "code",
   "execution_count": 10,
   "metadata": {},
   "outputs": [
    {
     "name": "stdout",
     "output_type": "stream",
     "text": [
      "Enter the numbers separated by comma: 1,2,3,4,5,6\n",
      "[1, 4, 9, 16, 25, 36]\n"
     ]
    }
   ],
   "source": [
    "\n",
    "def func_1(n):\n",
    "    return(n*n)\n",
    "\n",
    "def list_produce(str):\n",
    "    list_1= str.split(',')\n",
    "    list_2=[]\n",
    "    for i in list_1:\n",
    "        list_2.append(int(i))\n",
    "    return(list_2)\n",
    "\n",
    "def my_Map(function,list):\n",
    "    lst=[]\n",
    "    for i in list:\n",
    "        lst.append(function(i))\n",
    "    return lst\n",
    "\n",
    "string = input('Enter the numbers separated by comma: ')\n",
    "list_3= list_produce(string)\n",
    "\n",
    "y= my_Map(func_1,list_3)\n",
    "print(y)"
   ]
  },
  {
   "cell_type": "markdown",
   "metadata": {},
   "source": [
    "#### my_Map() using Lambda function"
   ]
  },
  {
   "cell_type": "code",
   "execution_count": 207,
   "metadata": {},
   "outputs": [
    {
     "name": "stdout",
     "output_type": "stream",
     "text": [
      "[25, 36, 49]\n"
     ]
    }
   ],
   "source": [
    "z=my_Map(lambda x:x**2,[5,6,7])\n",
    "print(z)"
   ]
  },
  {
   "cell_type": "markdown",
   "metadata": {},
   "source": [
    "#### 1.2 my_Filter()"
   ]
  },
  {
   "cell_type": "code",
   "execution_count": 14,
   "metadata": {},
   "outputs": [
    {
     "name": "stdout",
     "output_type": "stream",
     "text": [
      "Enter the numbers separated by comma: 1,2,3\n",
      "[3]\n"
     ]
    }
   ],
   "source": [
    "def func_1(n):\n",
    "    return(n>=3)\n",
    "\n",
    "def list_produce(str):\n",
    "    list_1=str.split(',')\n",
    "    list_2=[]\n",
    "    for i in list_1:\n",
    "        list_2.append(int(i))\n",
    "    return list_2\n",
    "\n",
    "def my_Filter(function,list):\n",
    "    lst=[]\n",
    "    for i in list:\n",
    "        value=function(i)\n",
    "        if(value==True):\n",
    "            lst.append(i)\n",
    "    return lst\n",
    "\n",
    "string=input('Enter the numbers separated by comma: ')\n",
    "list_3= list_produce(string)\n",
    "\n",
    "y= my_Filter(func_1,list_3)\n",
    "print(y)"
   ]
  },
  {
   "cell_type": "markdown",
   "metadata": {},
   "source": [
    "#### my_Filter() using Lambda function"
   ]
  },
  {
   "cell_type": "code",
   "execution_count": 15,
   "metadata": {},
   "outputs": [
    {
     "name": "stdout",
     "output_type": "stream",
     "text": [
      "[1, 2, 3]\n"
     ]
    }
   ],
   "source": [
    "z= my_Filter(lambda x: (x<=3),[1,2,3,4,5,6,7,8,9])\n",
    "print(z)"
   ]
  },
  {
   "cell_type": "markdown",
   "metadata": {},
   "source": [
    "#### 1.3 my_Reduce()"
   ]
  },
  {
   "cell_type": "code",
   "execution_count": 16,
   "metadata": {},
   "outputs": [
    {
     "name": "stdout",
     "output_type": "stream",
     "text": [
      "Enter the numbers separated by comma: 1,2,3,4\n",
      "24\n"
     ]
    }
   ],
   "source": [
    "def func_1(n,m):\n",
    "    return(n*m)\n",
    "\n",
    "\n",
    "def list_produce(str):\n",
    "    list_1=str.split(',')\n",
    "    list_2=[]\n",
    "    for i in list_1:\n",
    "        list_2.append(int(i))\n",
    "    return list_2\n",
    "\n",
    "def my_Reduce(function,list):\n",
    "    lst=[]\n",
    "    value=function(list[0],list[1])\n",
    "    for i in range(2,len(list)):\n",
    "        value=function(value,list[i])\n",
    "    return value\n",
    "\n",
    "\n",
    "string=input('Enter the numbers separated by comma: ')\n",
    "list_3= list_produce(string)\n",
    "\n",
    "y= my_Reduce(func_1,list_3)\n",
    "print(y)"
   ]
  },
  {
   "cell_type": "markdown",
   "metadata": {},
   "source": [
    "#### my_Reduce() using Lambda Function"
   ]
  },
  {
   "cell_type": "code",
   "execution_count": 200,
   "metadata": {},
   "outputs": [
    {
     "name": "stdout",
     "output_type": "stream",
     "text": [
      "6\n"
     ]
    }
   ],
   "source": [
    "z= my_Reduce(lambda n,m: n+m, [1,2,3])\n",
    "print(z)"
   ]
  },
  {
   "cell_type": "markdown",
   "metadata": {},
   "source": [
    "#### Part 2"
   ]
  },
  {
   "cell_type": "code",
   "execution_count": 15,
   "metadata": {},
   "outputs": [
    {
     "name": "stdout",
     "output_type": "stream",
     "text": [
      "['x', 'xx', 'xxx', 'y', 'yy', 'yyy', 'z', 'zz', 'zzz']\n"
     ]
    }
   ],
   "source": [
    "#2.1\n",
    "\n",
    "input_list = ['x','y','z']\n",
    "\n",
    "pattern_1= [i*j for j in input_list for i in range(1,4)]\n",
    "print(pattern_1)"
   ]
  },
  {
   "cell_type": "code",
   "execution_count": 16,
   "metadata": {},
   "outputs": [
    {
     "name": "stdout",
     "output_type": "stream",
     "text": [
      "['x', 'y', 'z', 'xx', 'yy', 'zz', 'xxx', 'yyy', 'zzz']\n"
     ]
    }
   ],
   "source": [
    "#2.2\n",
    "\n",
    "pattern_2= [i*j for j in range(1,4)  for i in input_list]\n",
    "print(pattern_2)"
   ]
  },
  {
   "cell_type": "code",
   "execution_count": 10,
   "metadata": {},
   "outputs": [
    {
     "name": "stdout",
     "output_type": "stream",
     "text": [
      "[[2], [3], [4], [3], [4], [5], [4], [5], [6]]\n"
     ]
    }
   ],
   "source": [
    "#2.3\n",
    "\n",
    "#conventional approach\n",
    "input_list_2 = [2,3,4]\n",
    "lst=[]\n",
    "for i in range(0,3):\n",
    "    for j in input_list_2:\n",
    "        lst.append([i+j])\n",
    "print(lst)"
   ]
  },
  {
   "cell_type": "code",
   "execution_count": 18,
   "metadata": {},
   "outputs": [
    {
     "name": "stdout",
     "output_type": "stream",
     "text": [
      "[[2], [3], [4], [3], [4], [5], [4], [5], [6]]\n"
     ]
    }
   ],
   "source": [
    "#2.4\n",
    "\n",
    "pattern_3=[[i+j] for j in input_list_2 for i in range(0,3)]\n",
    "print(pattern_3)"
   ]
  },
  {
   "cell_type": "code",
   "execution_count": 23,
   "metadata": {},
   "outputs": [
    {
     "name": "stdout",
     "output_type": "stream",
     "text": [
      "[[2, 3, 4, 5], [3, 4, 5, 6], [4, 5, 6, 7], [5, 6, 7, 8]]\n"
     ]
    }
   ],
   "source": [
    "#2.5\n",
    "\n",
    "input_list_2 = [2,3,4,5]\n",
    "\n",
    "pattern_4=[[i+j for j in input_list_2] for i in range(0,4)]\n",
    "print(pattern_4)"
   ]
  },
  {
   "cell_type": "code",
   "execution_count": 26,
   "metadata": {},
   "outputs": [
    {
     "name": "stdout",
     "output_type": "stream",
     "text": [
      "[(1, 1), (2, 1), (3, 1), (1, 2), (2, 2), (3, 2), (1, 3), (2, 3), (3, 3)]\n"
     ]
    }
   ],
   "source": [
    "#2.6\n",
    "\n",
    "input_list_3 = [1,2,3]\n",
    "\n",
    "pattern_5= [(i,j) for j in input_list_3 for i in input_list_3]\n",
    "print(pattern_5)"
   ]
  },
  {
   "cell_type": "markdown",
   "metadata": {},
   "source": [
    "#### Part 3."
   ]
  },
  {
   "cell_type": "code",
   "execution_count": 39,
   "metadata": {},
   "outputs": [
    {
     "name": "stdout",
     "output_type": "stream",
     "text": [
      "Enter space separated words: I don't know which word is the longest\n",
      "The longest word is longest\n"
     ]
    }
   ],
   "source": [
    "str = input('Enter space separated words: ')\n",
    "def longest_word(string):\n",
    "    longest_word=''\n",
    "    list_1= str.split(' ')\n",
    "    for i in list_1:\n",
    "        if(len(longest_word)<len(i)):\n",
    "            longest_word=i\n",
    "    print('The longest word is {}'.format(longest_word))\n",
    "    \n",
    "longest_word(str)"
   ]
  },
  {
   "cell_type": "markdown",
   "metadata": {},
   "source": [
    "### Task 2"
   ]
  },
  {
   "cell_type": "markdown",
   "metadata": {},
   "source": [
    "#### Part 1.1"
   ]
  },
  {
   "cell_type": "code",
   "execution_count": 27,
   "metadata": {},
   "outputs": [
    {
     "name": "stdout",
     "output_type": "stream",
     "text": [
      "Enter side a units:5\n",
      "Enter side b units:6\n",
      "Enter side c units:7\n",
      "The area of triangle is:  14.696938456699069 units^2\n"
     ]
    }
   ],
   "source": [
    "class Parent: #main class\n",
    "    \n",
    "    def __init__(self):\n",
    "        self.a = int(input('Enter side a units:'))\n",
    "        self.b = int(input('Enter side b units:'))\n",
    "        self.c = int(input('Enter side c units:'))\n",
    "    \n",
    "class Area(Parent): #subclass\n",
    "    def area(self):\n",
    "        s=(self.a + self.b + self.c)/2\n",
    "        return (s*(s-self.a)*(s-self.b)*(s-self.c))**0.5\n",
    "        \n",
    "triangle_1=Area()\n",
    "#print(triangle_1.a)\n",
    "#print(triangle_1.b)\n",
    "#print(triangle_1.c)\n",
    "#print(help(Area))\n",
    "print('The area of triangle is: ',triangle_1.area(), 'units^2')"
   ]
  },
  {
   "cell_type": "markdown",
   "metadata": {},
   "source": [
    "#### Part 1.2 "
   ]
  },
  {
   "cell_type": "code",
   "execution_count": 34,
   "metadata": {},
   "outputs": [
    {
     "name": "stdout",
     "output_type": "stream",
     "text": [
      "Enter space separated words: Beauty lies in the eyes of the beholder\n",
      "Enter the length: 3\n",
      "The list of words longer than words with 3 letters are ['Beauty', 'lies', 'eyes', 'beholder']\n"
     ]
    }
   ],
   "source": [
    "str = input('Enter space separated words: ')\n",
    "n= int(input('Enter the length: '))\n",
    "def filter_long_words(string,N):\n",
    "    long_words=[]\n",
    "    list_1= str.split(' ')\n",
    "    for i in list_1:\n",
    "        if(len(i)>n):\n",
    "            long_words.append(i)\n",
    "    print('The list of words longer than words with {} letters are'.format(n),long_words)\n",
    "    \n",
    "filter_long_words(str,n)"
   ]
  },
  {
   "cell_type": "markdown",
   "metadata": {},
   "source": [
    "#### Part 2.1"
   ]
  },
  {
   "cell_type": "code",
   "execution_count": 30,
   "metadata": {},
   "outputs": [
    {
     "name": "stdout",
     "output_type": "stream",
     "text": [
      "Enter the string: My names is Rahoof Khan\n",
      "Required Output is:  (2, 5, 2, 6, 4)\n"
     ]
    }
   ],
   "source": [
    "#map(function, iterable)\n",
    "\n",
    "#Iterable\n",
    "\n",
    "def string_to_list(str):\n",
    "    list=string.split(' ')\n",
    "    return list\n",
    "\n",
    "#function\n",
    "def count(str):\n",
    "    count=0\n",
    "    for i in str:\n",
    "        count+=1\n",
    "    return count\n",
    "\n",
    "string= input('Enter the string: ')\n",
    "list_1=string_to_list(string)\n",
    "\n",
    "y=map(count,list_1)\n",
    "\n",
    "print('Required Output is: ',tuple(y)) \n",
    "    \n",
    "    \n",
    "    "
   ]
  },
  {
   "cell_type": "markdown",
   "metadata": {},
   "source": [
    "#### Part 2.2"
   ]
  },
  {
   "cell_type": "code",
   "execution_count": 24,
   "metadata": {},
   "outputs": [
    {
     "name": "stdout",
     "output_type": "stream",
     "text": [
      "Enter the character: f\n",
      "Is the character a vowel?  False\n"
     ]
    }
   ],
   "source": [
    "def show(str):\n",
    "    if str in 'AEIOUaeiou':\n",
    "        return True \n",
    "    else:\n",
    "        return False\n",
    "            \n",
    "\n",
    "string= input('Enter the character: ')\n",
    "print('Is the character a vowel? ',show(string))\n"
   ]
  },
  {
   "cell_type": "code",
   "execution_count": null,
   "metadata": {},
   "outputs": [],
   "source": []
  }
 ],
 "metadata": {
  "kernelspec": {
   "display_name": "Python 3",
   "language": "python",
   "name": "python3"
  },
  "language_info": {
   "codemirror_mode": {
    "name": "ipython",
    "version": 3
   },
   "file_extension": ".py",
   "mimetype": "text/x-python",
   "name": "python",
   "nbconvert_exporter": "python",
   "pygments_lexer": "ipython3",
   "version": "3.7.7"
  }
 },
 "nbformat": 4,
 "nbformat_minor": 4
}
